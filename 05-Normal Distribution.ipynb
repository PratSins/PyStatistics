{
 "cells": [
  {
   "cell_type": "markdown",
   "metadata": {
    "collapsed": true
   },
   "source": [
    "## Let's learn the normal distribution!"
   ]
  },
  {
   "cell_type": "markdown",
   "metadata": {},
   "source": [
    "We'll start with the definition of the PDF, we'll see how to create the distribution in python using scipy and numpy, and discuss some properties of the normal distribution."
   ]
  },
  {
   "cell_type": "markdown",
   "metadata": {},
   "source": [
    "The distribution is defined by the probability density function equation:"
   ]
  },
  {
   "cell_type": "markdown",
   "metadata": {},
   "source": [
    "## $$  f(x,\\mu,\\sigma) = \\frac{1}{\\sigma\\sqrt{2\\pi}}e^\\frac{-1}{2z^2} $$"
   ]
  },
  {
   "cell_type": "markdown",
   "metadata": {},
   "source": [
    "Where: $$z=\\frac{(X-\\mu)}{\\sigma}$$"
   ]
  },
  {
   "cell_type": "markdown",
   "metadata": {},
   "source": [
    "where: μ=mean , σ=standard deviation , π=3.14... , e=2.718... The total area bounded by curve of the probability density function equation and the X axis is 1; thus the area under the curve between two ordinates X=a and X=b, where a<b, represents the probability that X lies between a and b. This probability can be expressed as: $$Pr(a<X<b)$$"
   ]
  },
  {
   "cell_type": "markdown",
   "metadata": {
    "collapsed": true
   },
   "source": [
    "----------"
   ]
  },
  {
   "cell_type": "markdown",
   "metadata": {},
   "source": [
    "Let's look at the curve. The normal distribution has several characteristics:\n",
    "\n",
    "    1.) It has a lower tail (on the left) and an upper tail (on the right)\n",
    "    2.) The curve is symmetric (for the theoretical distribution)\n",
    "    3.) The peak occurs at the mean.\n",
    "    4.) The standard deviation gives the curve a different shape:\n",
    "        -Narrow and tall for a smaller standard deviation.\n",
    "        -Shallower and fatter for a larger standard deviation.\n",
    "    5.) The area under the curve is equal to 1 (the total probaility space)\n",
    "    6.) The mean=median=mode.\n",
    "    "
   ]
  },
  {
   "cell_type": "markdown",
   "metadata": {},
   "source": [
    "For the normal distribution, we can see what percentage of values lie between +/- a standard deviation. 68% of the values lie within 1 TSD, 95% between 2 STDs, and 99.7% between 3 STDs. The number of standard deviations is also called the z-score, which we saw above in the PDF."
   ]
  },
  {
   "cell_type": "code",
   "execution_count": 1,
   "metadata": {},
   "outputs": [],
   "source": [
    "import numpy as np\n",
    "from numpy.random import randn\n",
    "import pandas as pd\n",
    "from scipy import stats\n",
    "import matplotlib as mpl\n",
    "import matplotlib.pyplot as plt\n",
    "import seaborn as sns\n",
    "from __future__ import division\n",
    "%matplotlib inline"
   ]
  },
  {
   "cell_type": "code",
   "execution_count": 2,
   "metadata": {},
   "outputs": [
    {
     "data": {
      "text/html": [
       "<img src=\"http://upload.wikimedia.org/wikipedia/commons/thumb/2/25/The_Normal_Distribution.svg/725px-The_Normal_Distribution.svg.png\"/>"
      ],
      "text/plain": [
       "<IPython.core.display.Image object>"
      ]
     },
     "execution_count": 2,
     "metadata": {},
     "output_type": "execute_result"
    }
   ],
   "source": [
    "from IPython.display import Image\n",
    "Image(url='http://upload.wikimedia.org/wikipedia/commons/thumb/2/25/The_Normal_Distribution.svg/725px-The_Normal_Distribution.svg.png')"
   ]
  },
  {
   "cell_type": "markdown",
   "metadata": {},
   "source": [
    "Now let's learn how to use scipy to create a normal distribution"
   ]
  },
  {
   "cell_type": "code",
   "execution_count": 3,
   "metadata": {},
   "outputs": [
    {
     "data": {
      "text/plain": [
       "[<matplotlib.lines.Line2D at 0x205d7d93e50>]"
      ]
     },
     "execution_count": 3,
     "metadata": {},
     "output_type": "execute_result"
    },
    {
     "data": {
      "image/png": "[encoded data removed]",
      "text/plain": [
       "<Figure size 640x480 with 1 Axes>"
      ]
     },
     "metadata": {},
     "output_type": "display_data"
    }
   ],
   "source": [
    "#Import\n",
    "import matplotlib as mpl\n",
    "import matplotlib.pyplot as plt\n",
    "%matplotlib inline\n",
    "\n",
    "#Import the stats library\n",
    "from scipy import stats\n",
    "\n",
    "# Set the mean\n",
    "mean = 0\n",
    "\n",
    "#Set the standard deviation\n",
    "std = 1\n",
    "\n",
    "\n",
    "# Create a range\n",
    "X = np.arange(-4,4,0.01)\n",
    "\n",
    "#Create the normal distribution for the range\n",
    "Y = stats.norm.pdf(X,mean,std)\n",
    "\n",
    "#\n",
    "plt.plot(X,Y)\n"
   ]
  },
  {
   "cell_type": "markdown",
   "metadata": {},
   "source": [
    "Now let's learn how to use numpy to create the normal distribution."
   ]
  },
  {
   "cell_type": "code",
   "execution_count": 4,
   "metadata": {},
   "outputs": [],
   "source": [
    "import numpy as np\n",
    "\n",
    "#Set the mean and the standard deviaiton\n",
    "mu,sigma = 0,0.1\n",
    "\n",
    "# Now grab 1000 random numbers from the normal distribution\n",
    "norm_set = np.random.normal(mu,sigma,1000)\n",
    "\n"
   ]
  },
  {
   "cell_type": "code",
   "execution_count": 5,
   "metadata": {},
   "outputs": [
    {
     "data": {
      "text/plain": [
       "(array([ 2.,  3.,  0.,  0.,  2.,  2.,  3.,  3.,  4., 10.,  6., 13., 17.,\n",
       "        14., 19., 22., 27., 26., 25., 38., 41., 54., 52., 48., 47., 45.,\n",
       "        49., 63., 53., 45., 46., 30., 32., 29., 20., 24., 14., 16.,  9.,\n",
       "        12., 12.,  6.,  5.,  5.,  1.,  1.,  3.,  0.,  0.,  2.]),\n",
       " array([-0.3239357 , -0.31130364, -0.29867159, -0.28603953, -0.27340747,\n",
       "        -0.26077542, -0.24814336, -0.2355113 , -0.22287925, -0.21024719,\n",
       "        -0.19761513, -0.18498308, -0.17235102, -0.15971896, -0.14708691,\n",
       "        -0.13445485, -0.12182279, -0.10919074, -0.09655868, -0.08392662,\n",
       "        -0.07129457, -0.05866251, -0.04603045, -0.0333984 , -0.02076634,\n",
       "        -0.00813428,  0.00449777,  0.01712983,  0.02976189,  0.04239394,\n",
       "         0.055026  ,  0.06765805,  0.08029011,  0.09292217,  0.10555422,\n",
       "         0.11818628,  0.13081834,  0.14345039,  0.15608245,  0.16871451,\n",
       "         0.18134656,  0.19397862,  0.20661068,  0.21924273,  0.23187479,\n",
       "         0.24450685,  0.2571389 ,  0.26977096,  0.28240302,  0.29503507,\n",
       "         0.30766713]),\n",
       " <BarContainer object of 50 artists>)"
      ]
     },
     "execution_count": 5,
     "metadata": {},
     "output_type": "execute_result"
    },
    {
     "data": {
      "image/png": "[encoded data removed]",
      "text/plain": [
       "<Figure size 640x480 with 1 Axes>"
      ]
     },
     "metadata": {},
     "output_type": "display_data"
    }
   ],
   "source": [
    "#Now let's plot it using seaborn\n",
    "\n",
    "import seaborn as sns\n",
    "\n",
    "plt.hist(norm_set,bins=50)"
   ]
  },
  {
   "cell_type": "markdown",
   "metadata": {
    "collapsed": true
   },
   "source": [
    "There's a ton on information to go over for the normal distribution, this notebook should just serve as a very mild introduction, for more info check out the following sources:\n",
    "\n",
    "1.) http://en.wikipedia.org/wiki/Normal_distribution\n",
    "\n",
    "2.) http://mathworld.wolfram.com/NormalDistribution.html\n",
    "\n",
    "3.) http://stattrek.com/probability-distributions/normal.aspx"
   ]
  }
 ],
 "metadata": {
  "kernelspec": {
   "display_name": "Python 3 (ipykernel)",
   "language": "python",
   "name": "python3"
  },
  "language_info": {
   "codemirror_mode": {
    "name": "ipython",
    "version": 3
   },
   "file_extension": ".py",
   "mimetype": "text/x-python",
   "name": "python",
   "nbconvert_exporter": "python",
   "pygments_lexer": "ipython3",
   "version": "3.11.3"
  }
 },
 "nbformat": 4,
 "nbformat_minor": 1
}
